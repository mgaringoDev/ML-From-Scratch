{
 "cells": [
  {
   "cell_type": "markdown",
   "metadata": {},
   "source": [
    "# Background"
   ]
  },
  {
   "cell_type": "markdown",
   "metadata": {},
   "source": [
    "I used the following resources:\n",
    "- Background\n",
    "    - [Emipircal Evaluation of Gated Recurrent Neural Networks on Sequence Modeling](https://arxiv.org/pdf/1412.3555.pdf)\n",
    "    - [Introduction to Sequence Models — RNN, Bidirectional RNN, LSTM, GRU](https://towardsdatascience.com/introduction-to-sequence-models-rnn-bidirectional-rnn-lstm-gru-73927ec9df15)\n",
    "    - [Recurrent Neural Networks Introduction](https://leonardoaraujosantos.gitbooks.io/artificial-inteligence/content/recurrent_neural_networks.html)    \n",
    "- Standford\n",
    "    - [The Unreasonable Effectiveness of Recurrent Neural Networks](http://karpathy.github.io/2015/05/21/rnn-effectiveness/)    \n",
    "    - [Vector,Matrix and Tensor Derivatives Cheatsheet](http://cs231n.stanford.edu/vecDerivs.pdf)\n",
    "- Vanilla\n",
    "    - [Rnn (vanial, GRU and LSTM) from scratch](https://github.com/ankitesh97/NewsGenerator/blob/master/Gru.py)    "
   ]
  },
  {
   "cell_type": "markdown",
   "metadata": {
    "collapsed": true
   },
   "source": [
    "# Imports"
   ]
  },
  {
   "cell_type": "code",
   "execution_count": 1,
   "metadata": {},
   "outputs": [],
   "source": [
    "import numpy as np\n",
    "\n",
    "# Plotting\n",
    "import matplotlib.pyplot as plt\n",
    "\n",
    "%matplotlib inline\n",
    "from IPython import display\n",
    "plt.style.use('seaborn-white')"
   ]
  },
  {
   "cell_type": "markdown",
   "metadata": {},
   "source": [
    "## Read and process data"
   ]
  },
  {
   "cell_type": "markdown",
   "metadata": {},
   "source": [
    "The data to be learnt from is in the same directory as this notebook.  "
   ]
  },
  {
   "cell_type": "code",
   "execution_count": 2,
   "metadata": {},
   "outputs": [],
   "source": [
    "data = open('input.txt', 'r').read()"
   ]
  },
  {
   "cell_type": "markdown",
   "metadata": {},
   "source": [
    "Process data and calculate indexes"
   ]
  },
  {
   "cell_type": "code",
   "execution_count": 3,
   "metadata": {},
   "outputs": [
    {
     "name": "stdout",
     "output_type": "stream",
     "text": [
      "data has 2421 characters, 42 unique\n"
     ]
    }
   ],
   "source": [
    "chars = list(set(data))\n",
    "data_size, X_size = len(data), len(chars)\n",
    "print(\"data has %d characters, %d unique\" % (data_size, X_size))\n",
    "char_to_idx = {ch:i for i,ch in enumerate(chars)}\n",
    "idx_to_char = {i:ch for i,ch in enumerate(chars)}"
   ]
  },
  {
   "cell_type": "markdown",
   "metadata": {},
   "source": [
    "# Parameters"
   ]
  },
  {
   "cell_type": "markdown",
   "metadata": {},
   "source": [
    "## Hyperparameters"
   ]
  },
  {
   "cell_type": "code",
   "execution_count": 4,
   "metadata": {},
   "outputs": [],
   "source": [
    "H_size = 100 # Size of the hidden layer\n",
    "T_steps = 25 # Number of time steps (length of the sequence) used for training\n",
    "learning_rate = 1e-1 # Learning rate\n",
    "z_size = H_size + X_size # Size of concatenate(H, X) vector"
   ]
  },
  {
   "cell_type": "code",
   "execution_count": 5,
   "metadata": {},
   "outputs": [],
   "source": [
    "eps = 1e-8 # adagrad initialization note that this is usually between 1e-4 and 1e-8"
   ]
  },
  {
   "cell_type": "markdown",
   "metadata": {},
   "source": [
    "## Constants"
   ]
  },
  {
   "cell_type": "code",
   "execution_count": 6,
   "metadata": {},
   "outputs": [],
   "source": [
    "np.random.seed(64)"
   ]
  },
  {
   "cell_type": "code",
   "execution_count": 7,
   "metadata": {},
   "outputs": [],
   "source": [
    "# Exponential average of loss\n",
    "# Initialize to a error of a random model\n",
    "smooth_loss = -np.log(1.0 / X_size) * T_steps\n",
    "\n",
    "iteration, pointer = 0, 0\n",
    "\n",
    "# For the graph\n",
    "plot_iter = np.zeros((0))\n",
    "plot_loss = np.zeros((0))\n",
    "\n",
    "# Number of characters for the model to generate\n",
    "numOfCharToGenerate = 100\n",
    "\n",
    "# Number of iteration before showing the progress of the model\n",
    "numOfIterToShowProgress = 200\n",
    "\n",
    "# Number of iterations to use for training\n",
    "numItr = 5000"
   ]
  },
  {
   "cell_type": "markdown",
   "metadata": {},
   "source": [
    "## Model Parameters"
   ]
  },
  {
   "cell_type": "code",
   "execution_count": 8,
   "metadata": {},
   "outputs": [],
   "source": [
    "class Param:\n",
    "    def __init__(self, name, value):\n",
    "        self.name = name\n",
    "        self.v = value #parameter value\n",
    "        self.d = np.zeros_like(value) #derivative\n",
    "        self.m = np.zeros_like(value) #momentum for AdaGrad"
   ]
  },
  {
   "cell_type": "markdown",
   "metadata": {},
   "source": [
    "We are initializing using the [Xavier initalization method](http://proceedings.mlr.press/v9/glorot10a/glorot10a.pdf?hc_location=ufi). Which says that we multiply a random distribution with either\n",
    "\n",
    "\\begin{align}\n",
    "\\text{Var}(W) = \\frac{1}{n_\\text{in}}\\\\\n",
    "\\text{Var}(W) = \\frac{2}{n_\\text{in} + n_\\text{out}}\n",
    "\\end{align}\n",
    "\n",
    "\n",
    "In short, it helps signals reach deep into the network.\n",
    "\n",
    "- If the weights in a network start too small, then the signal shrinks as it passes through each layer until it’s too tiny to be useful.\n",
    "- If the weights in a network start too large, then the signal grows as it passes through each layer until it’s too massive to be useful.\n",
    "\n",
    "Xavier initialization makes sure the weights are ‘just right’, keeping the signal in a reasonable range of values through many layers. To go any further than this, you’re going to need a small amount of statistics - specifically you need to know about random distributions and their variance.\n",
    "\n",
    "For a detailed explanation refer to this [blog](http://andyljones.tumblr.com/post/110998971763/an-explanation-of-xavier-initialization) if the paper is too convoluted. We use the second implementation."
   ]
  },
  {
   "cell_type": "code",
   "execution_count": 9,
   "metadata": {},
   "outputs": [],
   "source": [
    "class Parameters:\n",
    "    def __init__(self):\n",
    "        # update gate\n",
    "        self.W_u = Param('W_u', \n",
    "                         np.random.randn(H_size, z_size) * np.sqrt(2.0/(H_size+z_size)))\n",
    "        self.b_u = Param('b_u',\n",
    "                         np.zeros((H_size, 1)))\n",
    "        \n",
    "        # reset gate\n",
    "        self.W_r = Param('W_r',\n",
    "                         np.random.randn(H_size, z_size) * np.sqrt(2.0/(H_size+z_size)))\n",
    "        self.b_r = Param('b_r',\n",
    "                         np.zeros((H_size, 1)))\n",
    "        \n",
    "         # memory gate\n",
    "        self.W_hbar = Param('W_har',\n",
    "                         np.random.randn(H_size, z_size) * np.sqrt(2.0/(H_size+z_size)))\n",
    "        self.b_hbar = Param('b_har',\n",
    "                         np.zeros((H_size, 1)))        \n",
    "        \n",
    "\n",
    "        #For final layer to predict the next character\n",
    "        self.W_v = Param('W_v',\n",
    "                         np.random.randn(X_size, H_size) * np.sqrt(2.0/(X_size+H_size)))\n",
    "        self.b_v = Param('b_v',\n",
    "                         np.zeros((X_size, 1)))\n",
    "        \n",
    "    # this method makes it easier to loop through each paramters for either updating or clearing them out for initialization.    \n",
    "    def all(self):\n",
    "        return [self.W_u, self.W_r, self.W_hbar, self.W_v,\n",
    "               self.b_u, self.b_r, self.b_hbar, self.b_v]\n",
    "        \n",
    "parameters = Parameters()"
   ]
  },
  {
   "cell_type": "markdown",
   "metadata": {},
   "source": [
    "# Functions"
   ]
  },
  {
   "cell_type": "markdown",
   "metadata": {},
   "source": [
    "## Activation Functions and Derivatives\n",
    "\n",
    "### Sigmoid\n",
    "\n",
    "\\begin{align}\n",
    "\\sigma(x) &= \\frac{1}{1 + e^{-x}}\\\\\n",
    "\\frac{d\\sigma(x)}{dx} &= \\sigma(x) \\cdot (1 - \\sigma(x))\n",
    "\\end{align}"
   ]
  },
  {
   "cell_type": "code",
   "execution_count": 10,
   "metadata": {},
   "outputs": [],
   "source": [
    "def sigmoid(x):\n",
    "    return 1 / (1 + np.exp(-x))\n",
    "\n",
    "def dsigmoid(y):\n",
    "    return y * (1 - y)"
   ]
  },
  {
   "cell_type": "markdown",
   "metadata": {},
   "source": [
    "### Tanh\n",
    "\n",
    "\\begin{align}\n",
    "\\frac{d\\text{tanh}(x)}{dx} &= 1 - \\text{tanh}^2(x)\n",
    "\\end{align}"
   ]
  },
  {
   "cell_type": "code",
   "execution_count": 11,
   "metadata": {},
   "outputs": [],
   "source": [
    "def tanh(x):\n",
    "    return np.tanh(x)\n",
    "\n",
    "def dtanh(y):\n",
    "    return 1 - y * y"
   ]
  },
  {
   "cell_type": "markdown",
   "metadata": {},
   "source": [
    "## Forward pass\n",
    "\n",
    "![GRU](https://i.imgur.com/HYMgdg9.png)\n",
    "\n",
    "*Operation $z$ is the concatenation of $x$ and $h_{t-1}$*\n",
    "and since we have two zeds I will associate the $z_t$ with $u_t$ for update state.\n",
    "\n",
    "### Calculations\n",
    "#### Concatenation of hprev and xt\n",
    "\\begin{align}\n",
    "z & = [h_{t-1}, x_t] \\\\\n",
    "\\end{align}\n",
    "\n",
    "#### LSTM functions\n",
    "\\begin{align}\n",
    "u_t & = \\sigma(W_u \\cdot z + b_u) \\\\\n",
    "r_t & = \\sigma(W_r \\cdot z + b_i) \\\\\n",
    "\\bar h_t & = tanh(W_{\\bar h} \\cdot [r_t * h_{t-1}, x_t])\\\\\n",
    "h_t &= (1 - u_t) * h_{t-1} + u_t * \\bar h_t \\\\\n",
    "\\end{align}\n",
    "\n",
    "#### Logits\n",
    "\\begin{align}\n",
    "v_t &= W_v \\cdot h_t + b_v \\\\\n",
    "\\end{align}\n",
    "\n",
    "#### Softmax\n",
    "\\begin{align}\n",
    "\\hat{y_t} &= \\text{softmax}(v_t)\n",
    "\\end{align}\n",
    "\n",
    "$\\hat{y_t}$ is `y` in code and $y_t$ is `targets`.\n"
   ]
  },
  {
   "cell_type": "markdown",
   "metadata": {},
   "source": [
    "### forward()"
   ]
  },
  {
   "cell_type": "markdown",
   "metadata": {},
   "source": [
    "Just go through the computational graph."
   ]
  },
  {
   "cell_type": "code",
   "execution_count": 12,
   "metadata": {},
   "outputs": [],
   "source": [
    "def forward(x, h_prev, p = parameters):\n",
    "    assert x.shape == (X_size, 1)\n",
    "    assert h_prev.shape == (H_size, 1)    \n",
    "    \n",
    "    # concatontae hiddenstate matrix with the input matrix to make calculatations cleaner\n",
    "    z = np.row_stack((h_prev, x))\n",
    "    \n",
    "    # calculate LSTM gates \n",
    "    u = sigmoid(np.dot(p.W_u.v, z) + p.b_u.v)\n",
    "    r = sigmoid(np.dot(p.W_r.v, z) + p.b_r.v)\n",
    "    \n",
    "    z_prime = np.row_stack((r*h_prev, x))\n",
    "    hbar = tanh(np.dot(p.W_hbar.v, z_prime) + p.b_hbar.v)\n",
    "        \n",
    "    \n",
    "    # hidden state for this tick    \n",
    "    h = (1-u)*h_prev + u*hbar\n",
    "    \n",
    "    # softmax loss\n",
    "    v = np.dot(p.W_v.v, h) + p.b_v.v\n",
    "    y = np.exp(v) / np.sum(np.exp(v)) #softmax\n",
    "\n",
    "    return z, u, r, z_prime, hbar, h, v, y"
   ]
  },
  {
   "cell_type": "markdown",
   "metadata": {},
   "source": [
    "### Backward pass\n",
    "\n",
    "#### Loss\n",
    "\n",
    "\\begin{align}\n",
    "L_k &= -\\sum_{t=k}^T\\sum_j y_{t,j} log \\hat{y_{t,j}} \\\\\n",
    "L &= L_1 \\\\\n",
    "\\end{align}\n",
    "\n",
    "#### Gradients\n",
    "Follow the gradient backwards through the computational graphs.  Same as the LSTM.\n",
    "\n",
    "The most important thing to note here is the junction cases.  At these points add all the in coming gradients together before going upstream.  Apart from that there is nothing really tricky about this."
   ]
  },
  {
   "cell_type": "markdown",
   "metadata": {},
   "source": [
    "### backward()\n",
    "\n",
    "Note: When traversing through the computational network to get the local gradient of a node it is [**upstream**] * [**downstream**]\n",
    "\n",
    "- **add gate:** gradient distributer ... pass the exact same value through each of the branches\n",
    "- **max gate:** gradient router ... passes the entire upstream gradient to the branch with the highest upstream value\n",
    "- **mul gate:** gradient switcher ... local gradient is the value of the other branch (think of this a s ad/dx of a linear function)\n",
    "- **functional gate:** gradient of the function ... take the derivative of this function with respect to the upstream"
   ]
  },
  {
   "cell_type": "code",
   "execution_count": 13,
   "metadata": {},
   "outputs": [],
   "source": [
    "def backward(target, dh_next, h_prev,\n",
    "             z, u, r, z_prime, hbar, h, v, y,\n",
    "             p = parameters):\n",
    "    \n",
    "    assert z.shape == (X_size + H_size, 1)\n",
    "    assert v.shape == (X_size, 1)\n",
    "    assert y.shape == (X_size, 1)\n",
    "    \n",
    "    for param in [dh_next, u, r, hbar, h]:\n",
    "        assert param.shape == (H_size, 1)\n",
    "    \n",
    "    # Loss function\n",
    "    dv = np.copy(y)\n",
    "    dv[target] -= 1\n",
    "    \n",
    "    # Loss function wrt logit\n",
    "    p.W_v.d += np.dot(dv, h.T)\n",
    "    p.b_v.d += dv\n",
    "    \n",
    "    # logit wrt hidden state\n",
    "    # NOTE: from here on dh is common in the calculations for all the weights\n",
    "    dh = np.dot(p.W_v.v.T, dv)        \n",
    "    dh += dh_next\n",
    "    \n",
    "    \n",
    "    # calculate the affects of the ---------------------  update gate    \n",
    "    # backprop throught he add gate which is just a distributer\n",
    "    # backprop through the -1 which just multiplies dh by -1\n",
    "    # add hbar because there is a junction \n",
    "    du = dh * -1 * h_prev + hbar\n",
    "    # backprop through the sigmoid gate\n",
    "    du = dsigmoid(u) * du\n",
    "    # backprop through the final mul gate\n",
    "    p.W_u.d += np.dot(du, z.T)\n",
    "    p.b_u.d += du   \n",
    "    \n",
    "    # calculate the affects of the ---------------------  reset gate    \n",
    "    # backprop through the mul gate\n",
    "    # add hprev because of the junction\n",
    "    dr = dh * (1 - u) + h_prev\n",
    "    # bcakprop through the mul gate\n",
    "    dr = dr * z_prime[:H_size, :]\n",
    "    # backprop through the sigmoid\n",
    "    dr = dsigmoid(r) * dr\n",
    "    # backpropr through the final mul gate\n",
    "    p.W_r.d += np.dot(dr, z.T)\n",
    "    p.b_r.d += dr   \n",
    "    \n",
    "    # calculate the affects of the ---------------------  memory gate    \n",
    "    # backprop through the mul gate\n",
    "    dhbar = dh * u\n",
    "    # backprop through the tanh gate\n",
    "    dhbar = dtanh(hbar) * dhbar\n",
    "    # backprop through the final mul gate but with z_prime\n",
    "    dhbar = dhbar + z_prime[:H_size, :]\n",
    "    # backpropr through the final mul gat but with \n",
    "    p.W_hbar.d += np.dot(dhbar, z.T)\n",
    "    p.b_hbar.d += dhbar    \n",
    "    \n",
    "    \n",
    "    # calculate the affects of the ---------------------- z weigths\n",
    "    dz = (np.dot(p.W_u.v.T, du)\n",
    "         + np.dot(p.W_r.v.T, dr)         \n",
    "         + np.dot(p.W_hbar.v.T, dhbar))\n",
    "    \n",
    "    # only take the portion of the input that is affected by the hidden states.  Recall that z is a concatination of the\n",
    "    # hidden state and the input one hot vector\n",
    "    dh_prev = dz[:H_size, :]\n",
    "       \n",
    "    \n",
    "    return dh_prev"
   ]
  },
  {
   "cell_type": "markdown",
   "metadata": {},
   "source": [
    "## Utility Functions"
   ]
  },
  {
   "cell_type": "markdown",
   "metadata": {},
   "source": [
    "### Clear gradients \n",
    "Used for initialization "
   ]
  },
  {
   "cell_type": "code",
   "execution_count": 14,
   "metadata": {},
   "outputs": [],
   "source": [
    "def clear_gradients(params = parameters):\n",
    "    for p in params.all():\n",
    "        p.d.fill(0)"
   ]
  },
  {
   "cell_type": "markdown",
   "metadata": {},
   "source": [
    "### Clip gradients \n",
    "This is to mitigate exploding gradients"
   ]
  },
  {
   "cell_type": "code",
   "execution_count": 15,
   "metadata": {},
   "outputs": [],
   "source": [
    "def clip_gradients(params = parameters):\n",
    "    # clip the crapids to [-1,1]\n",
    "    for p in params.all():\n",
    "        np.clip(p.d, -5, 5, out=p.d)"
   ]
  },
  {
   "cell_type": "markdown",
   "metadata": {},
   "source": [
    "### Forward-Backward\n",
    "\n",
    "Perform forward and then back prop in one function to keep things nice and tidy when reading the main LSTM loop"
   ]
  },
  {
   "cell_type": "code",
   "execution_count": 16,
   "metadata": {},
   "outputs": [],
   "source": [
    "def forward_backward(inputs, targets, h_prev):\n",
    "    global paramters\n",
    "    \n",
    "    # To store the values for each time step\n",
    "    x_s, z_s, u_s, r_s,  = {}, {}, {}, {}\n",
    "    z_prime_s = {}\n",
    "    hbar_s, h_s = {}, {}\n",
    "    v_s, y_s =  {}, {}\n",
    "    \n",
    "    # Values at t - 1\n",
    "    h_s[-1] = np.copy(h_prev)    \n",
    "    \n",
    "    loss = 0\n",
    "    # Loop through time steps\n",
    "    assert len(inputs) == T_steps\n",
    "    for t in range(len(inputs)):\n",
    "        \n",
    "        # one hot encode the input vector\n",
    "        x_s[t] = np.zeros((X_size, 1))\n",
    "        x_s[t][inputs[t]] = 1 # Input character\n",
    "        \n",
    "        # Forward pass\n",
    "        (z_s[t], u_s[t], r_s[t],\n",
    "        z_prime_s[t], hbar_s[t], \n",
    "         h_s[t], v_s[t], y_s[t]) = \\\n",
    "            forward(x_s[t], h_s[t - 1],parameters) \n",
    "        \n",
    "        # Loss for this tick\n",
    "        loss += -np.log(y_s[t][targets[t], 0]) \n",
    "    \n",
    "    # clear the gradients for the next step size\n",
    "    clear_gradients()\n",
    "    \n",
    "    #dh from the next character\n",
    "    dh_next = np.zeros_like(h_s[0])      \n",
    "\n",
    "    for t in reversed(range(len(inputs))):\n",
    "        # Backward pass\n",
    "        \n",
    "        dh_next = \\\n",
    "            backward(target = targets[t], dh_next = dh_next,\n",
    "                     h_prev = h_s[t], \n",
    "                     z = z_s[t], u = u_s[t], r = r_s[t], z_prime = z_prime_s[t],\n",
    "                     hbar = hbar_s[t], h = h_s[t], v = v_s[t],\n",
    "                     y = y_s[t])\n",
    "    \n",
    "    # clip the gradients just in case they blow up\n",
    "    clip_gradients()\n",
    "        \n",
    "    return loss, h_s[len(inputs) - 1]"
   ]
  },
  {
   "cell_type": "markdown",
   "metadata": {},
   "source": [
    "### Sample the next character\n",
    "Used to see what the model is generating at some random sample point in the ticks"
   ]
  },
  {
   "cell_type": "code",
   "execution_count": 17,
   "metadata": {},
   "outputs": [],
   "source": [
    "def sample(h_prev,first_char_idx, sentence_length):\n",
    "    \n",
    "    # one hot vector for the seed\n",
    "    x = np.zeros((X_size, 1))\n",
    "    x[first_char_idx] = 1\n",
    "\n",
    "    # obtain current c state and hidden state\n",
    "    h = h_prev\n",
    "        \n",
    "    # running container for the generated characters\n",
    "    indexes = []\n",
    "    \n",
    "    # run model for sentence_length number of ticks\n",
    "    for t in range(sentence_length):\n",
    "        \n",
    "        # perform forward pass ... note that we only care about th enew C state and hidden state as well as the output\n",
    "        # probabilities because we are not performing backprop\n",
    "        _, _, _, _, _, h, _, p = forward(x, h)        \n",
    "        \n",
    "        # select a random with some probability associated with values\n",
    "        # np.random.choice(allPossibileOutcomes, probabilityOfTheOutcomes)\n",
    "        # choose a number in the vocab based on the probabilty distribution found in previous step\n",
    "        idx = np.random.choice(range(X_size), p=p.ravel())\n",
    "        \n",
    "        # one-hot encode this in a vector\n",
    "        x = np.zeros((X_size, 1))\n",
    "        x[idx] = 1\n",
    "        \n",
    "        # append running vector outputs\n",
    "        indexes.append(idx)\n",
    "\n",
    "    return indexes"
   ]
  },
  {
   "cell_type": "markdown",
   "metadata": {},
   "source": [
    "### Visualization"
   ]
  },
  {
   "cell_type": "markdown",
   "metadata": {},
   "source": [
    "Update the graph and display a sample output"
   ]
  },
  {
   "cell_type": "code",
   "execution_count": 18,
   "metadata": {},
   "outputs": [],
   "source": [
    "def update_status(inputs, h_prev, numChar):\n",
    "    #initialized later\n",
    "    global plot_iter, plot_loss\n",
    "    global smooth_loss\n",
    "    \n",
    "    # Get predictions for numOfCharToGenerate letters with current model\n",
    "\n",
    "    sample_idx = sample(h_prev, inputs[0], numChar)\n",
    "    txt = ''.join(idx_to_char[idx] for idx in sample_idx)\n",
    "\n",
    "    # Clear and plot\n",
    "    plt.plot(plot_iter, plot_loss)\n",
    "    display.clear_output(wait=True)\n",
    "    plt.show()\n",
    "\n",
    "    #Print prediction and loss\n",
    "    print(\"----\\n %s \\n----\" % (txt, ))\n",
    "    print(\"iter %d, loss %f\" % (iteration, smooth_loss))"
   ]
  },
  {
   "cell_type": "markdown",
   "metadata": {},
   "source": [
    "### Update parameters\n",
    "\n",
    "We will use adam descibed below.  \n",
    "\n",
    "![AdaGradImplementation](https://i.imgur.com/p9IvCME.png)\n",
    "\n",
    "Here eps and learning_rate is a hyper parameter and dx is the current gradient for a particular weight."
   ]
  },
  {
   "cell_type": "code",
   "execution_count": 19,
   "metadata": {},
   "outputs": [],
   "source": [
    "def update_paramters(params = parameters):\n",
    "    for p in params.all():\n",
    "        p.m += p.d * p.d # Calculate sum of gradients\n",
    "        #print(learning_rate * dparam)\n",
    "        p.v += -(learning_rate * p.d / np.sqrt(p.m + eps))"
   ]
  },
  {
   "cell_type": "markdown",
   "metadata": {},
   "source": [
    "# Training loop"
   ]
  },
  {
   "cell_type": "code",
   "execution_count": 21,
   "metadata": {},
   "outputs": [
    {
     "data": {
      "image/png": "[encoded data removed]",
      "text/plain": [
       "<Figure size 432x288 with 1 Axes>"
      ]
     },
     "metadata": {
      "needs_background": "light"
     },
     "output_type": "display_data"
    },
    {
     "name": "stdout",
     "output_type": "stream",
     "text": [
      "----\n",
      " innwyhinn'te u onoe owmevae  wnyTi'h osoravsenllI'lings wwebthele   se onne  yyh  o  Bkesae ool lero \n",
      "----\n",
      "iter 5000, loss 67.059696\n"
     ]
    }
   ],
   "source": [
    "while iteration<(numItr+1):\n",
    "    # Reset\n",
    "    \n",
    "    # if the current pointer is outisde the number data points we have +  the step size or this is the first run of the loop\n",
    "    # initialize the hidden state and c state to zero and make the pointer point to the first character in our\n",
    "    # dataset\n",
    "    if pointer + T_steps >= len(data) or iteration == 0:\n",
    "        g_h_prev = np.zeros((H_size, 1))\n",
    "        g_C_prev = np.zeros((H_size, 1))\n",
    "        pointer = 0\n",
    "\n",
    "    # obtain the T_steps number of character of the input and target values\n",
    "    inputs = ([char_to_idx[ch] \n",
    "               for ch in data[pointer: pointer + T_steps]])\n",
    "    targets = ([char_to_idx[ch] \n",
    "                for ch in data[pointer + 1: pointer + T_steps + 1]])\n",
    "    \n",
    "    # perform back and forwad pass throught through the LSTM with T-steps number of ticks\n",
    "    loss, g_h_prev = \\\n",
    "        forward_backward(inputs, targets, g_h_prev)\n",
    "    smooth_loss = smooth_loss * 0.999 + loss * 0.001\n",
    "\n",
    "    # Print every hundred steps\n",
    "    if iteration % numOfIterToShowProgress == 0:\n",
    "        update_status(inputs, g_h_prev, numOfCharToGenerate)\n",
    "    \n",
    "    # update the parameters\n",
    "    update_paramters()\n",
    "\n",
    "    # for visulaization purposes\n",
    "    plot_iter = np.append(plot_iter, [iteration])\n",
    "    plot_loss = np.append(plot_loss, [loss])\n",
    "    \n",
    "    # increment the datapointer to point to the next T-step as well as the iteration count\n",
    "    pointer += T_steps\n",
    "    iteration += 1"
   ]
  },
  {
   "cell_type": "code",
   "execution_count": null,
   "metadata": {},
   "outputs": [],
   "source": []
  }
 ],
 "metadata": {
  "kernelspec": {
   "display_name": "Python 2",
   "language": "python",
   "name": "python2"
  },
  "language_info": {
   "codemirror_mode": {
    "name": "ipython",
    "version": 2
   },
   "file_extension": ".py",
   "mimetype": "text/x-python",
   "name": "python",
   "nbconvert_exporter": "python",
   "pygments_lexer": "ipython2",
   "version": "2.7.15"
  },
  "latex_envs": {
   "LaTeX_envs_menu_present": true,
   "autoclose": false,
   "autocomplete": true,
   "bibliofile": "biblio.bib",
   "cite_by": "apalike",
   "current_citInitial": 1,
   "eqLabelWithNumbers": true,
   "eqNumInitial": 1,
   "hotkeys": {
    "equation": "Ctrl-E",
    "itemize": "Ctrl-I"
   },
   "labels_anchors": false,
   "latex_user_defs": false,
   "report_style_numbering": false,
   "user_envs_cfg": false
  }
 },
 "nbformat": 4,
 "nbformat_minor": 2
}
