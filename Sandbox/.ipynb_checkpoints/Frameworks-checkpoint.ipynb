{
 "cells": [
  {
   "cell_type": "markdown",
   "metadata": {},
   "source": [
    "# Imports"
   ]
  },
  {
   "cell_type": "code",
   "execution_count": 1,
   "metadata": {},
   "outputs": [],
   "source": [
    "import matplotlib.pyplot as plt\n",
    "%matplotlib inline"
   ]
  },
  {
   "cell_type": "markdown",
   "metadata": {},
   "source": [
    "# Overview"
   ]
  },
  {
   "cell_type": "markdown",
   "metadata": {},
   "source": [
    "This is just a quick overview of what I will be talking about in this section.  Which is basically comparing Numpy vs TensorFlow vs. PyTorch"
   ]
  },
  {
   "cell_type": "markdown",
   "metadata": {},
   "source": [
    "![overviewIMG](docs/comparison.png)"
   ]
  },
  {
   "cell_type": "markdown",
   "metadata": {},
   "source": [
    "# Architecture"
   ]
  },
  {
   "cell_type": "markdown",
   "metadata": {},
   "source": [
    "Train a two-layer ReLu Netowrk on random data with L2 Loss"
   ]
  },
  {
   "cell_type": "markdown",
   "metadata": {},
   "source": [
    "# Tensor Flow"
   ]
  },
  {
   "cell_type": "code",
   "execution_count": 2,
   "metadata": {},
   "outputs": [],
   "source": [
    "import numpy as np\n",
    "import tensorflow as tf"
   ]
  },
  {
   "cell_type": "code",
   "execution_count": 3,
   "metadata": {},
   "outputs": [],
   "source": [
    "np.random.seed(64)"
   ]
  },
  {
   "cell_type": "markdown",
   "metadata": {},
   "source": [
    "## Inefficient Method\n",
    "\n",
    "CPU GPU bottle-neck because we are copying CPU and GPU everytime step"
   ]
  },
  {
   "cell_type": "markdown",
   "metadata": {},
   "source": [
    "### Generate Computational Graphs"
   ]
  },
  {
   "cell_type": "code",
   "execution_count": 4,
   "metadata": {},
   "outputs": [],
   "source": [
    "N,D,H = 64, 1000, 1000\n",
    "# These are the input nodes of the graph and are fed into the graph\n",
    "# These are not allocating to memory\n",
    "x = tf.placeholder(tf.float32,shape=(N,D))\n",
    "y = tf.placeholder(tf.float32,shape=(N,D))\n",
    "w1 = tf.placeholder(tf.float32,shape=(D,H))\n",
    "w2 = tf.placeholder(tf.float32,shape=(H,D))\n",
    "\n",
    "# Using these symbolic values we will perform tensor operations on the.  \n",
    "# In this case forward propagation.\n",
    "h = tf.maximum(tf.matmul(x,w1),0) # matrix multiplacation\n",
    "y_pred = tf.matmul(h,w2) # ReLU\n",
    "diff = y_pred - y\n",
    "loss = tf.reduce_mean(tf.reduce_sum(diff**2,axis=1)) # L2 loss\n",
    "\n",
    "# This is as tensor flow to calculate the gradients of the loss wrt to w1 and w2\n",
    "# This avoids creating back-prop code\n",
    "grad_w1, grad_w2 = tf.gradients(loss,[w1,w2])"
   ]
  },
  {
   "cell_type": "markdown",
   "metadata": {},
   "source": [
    "### Run the Graph"
   ]
  },
  {
   "cell_type": "code",
   "execution_count": 5,
   "metadata": {},
   "outputs": [
    {
     "data": {
      "text/plain": [
       "[<matplotlib.lines.Line2D at 0xdd8bf28>]"
      ]
     },
     "execution_count": 5,
     "metadata": {},
     "output_type": "execute_result"
    },
    {
     "data": {
      "image/png": "[encoded data removed]",
      "text/plain": [
       "<Figure size 432x288 with 1 Axes>"
      ]
     },
     "metadata": {
      "needs_background": "light"
     },
     "output_type": "display_data"
    }
   ],
   "source": [
    "# Entering a tensor flow session\n",
    "lossRunning = []\n",
    "with tf.Session() as sess:\n",
    "    \n",
    "    # These are finally concrete values into the graph.  \n",
    "    # These are fed in using numpy\n",
    "    values = {x:np.random.randn(N,D),\n",
    "              w1:np.random.randn(D,H),\n",
    "              w2:np.random.randn(H,D),\n",
    "              y:np.random.randn(N,D)\n",
    "             }\n",
    "    \n",
    "    #Hyper-Parameters\n",
    "    learning_rate = 1e-5\n",
    "    numItr = 50\n",
    "    \n",
    "    # Training the model\n",
    "    for itr in range(numItr):\n",
    "        # In this section we are basically saying we want to calculate loss,dw1,dw2\n",
    "        # and feeding in a dictionary of values which were specified by the \n",
    "        # palceholders\n",
    "        out = sess.run([loss,grad_w1,grad_w2],feed_dict = values)\n",
    "\n",
    "        # inpack all the output and you get the loss and the gradients\n",
    "        loss_val,grad_w1_val,grad_w2_val = out\n",
    "        lossRunning.append(loss_val)\n",
    "        \n",
    "        # Update the weights\n",
    "        values[w1] -= learning_rate *grad_w1_val\n",
    "        values[w2] -= learning_rate *grad_w2_val\n",
    "\n",
    "plt.plot(lossRunning)"
   ]
  },
  {
   "cell_type": "markdown",
   "metadata": {},
   "source": [
    "## Efficient"
   ]
  },
  {
   "cell_type": "markdown",
   "metadata": {},
   "source": [
    "These are the following changes that have been made to make it more efficient:\n",
    "- Changed the weights to be variables so that it persists in the graph between calls\n",
    "    - But because these are varible TF needs to know what are these values and we can initialize them with **tf.random_normal** function in TF"
   ]
  },
  {
   "cell_type": "markdown",
   "metadata": {},
   "source": [
    "### Generate Computation Graphs Efficient"
   ]
  },
  {
   "cell_type": "code",
   "execution_count": 6,
   "metadata": {},
   "outputs": [],
   "source": [
    "N,D,H = 64, 1000, 1000\n",
    "# These are the input nodes of the graph and are fed into the graph\n",
    "# These are not allocating to memory\n",
    "x = tf.placeholder(tf.float32,shape=(N,D))\n",
    "y = tf.placeholder(tf.float32,shape=(N,D))\n",
    "# NEW: now varible and tell TF on how they should be initialized\n",
    "w1 = tf.Variable(tf.random_normal((D,H)))\n",
    "w2 = tf.Variable(tf.random_normal((H,D)))\n",
    "\n",
    "# Using these symbolic values we will perform tensor operations on the.  \n",
    "# In this case forward propagation.\n",
    "h = tf.maximum(tf.matmul(x,w1),0) # matrix multiplacation\n",
    "y_pred = tf.matmul(h,w2) # ReLU\n",
    "\n",
    "# NEW: \n",
    "# diff = y_pred - y\n",
    "# loss = tf.reduce_mean(tf.reduce_sum(diff**2,axis=1)) # L2 loss\n",
    "# we can use predefined common loss functions instead of performing these\n",
    "# tensor calculation\n",
    "loss = tf.losses.mean_squared_error(y_pred,y)\n",
    "\n",
    "# This is as tensor flow to calculate the gradients of the loss wrt to w1 and w2\n",
    "# This avoids creating back-prop code\n",
    "grad_w1, grad_w2 = tf.gradients(loss,[w1,w2])\n",
    "\n",
    "# NEW: these weights are now inside the graphs so we need to perform an assign \n",
    "# which mutates these values inside the computational graph.  These values will\n",
    "# persist in each iteration\n",
    "learning_rate = 1e-5\n",
    "new_w1 = w1.assign(w1 - learning_rate * grad_w1)\n",
    "new_w2 = w2.assign(w2 - learning_rate * grad_w2)\n",
    "\n",
    "# NEW: perform optimization on the gradients\n",
    "# There are other optimization techniques such as ADAM, RMSprop\n",
    "optimizer = tf.train.GradientDescentOptimizer(1e-5)\n",
    "\n",
    "# we need to add this dummy node that depends on weights to force TF to update\n",
    "# This line automatically detects that the loss if based on w1 and w2 and knows\n",
    "# that these are trainable parameters.  This line then added nodes in the \n",
    "# computational graph that says w1 and w2 needs to be updataes.\n",
    "updates = optimizer.minimize(loss)"
   ]
  },
  {
   "cell_type": "markdown",
   "metadata": {},
   "source": [
    "### Run the Graphs Efficient"
   ]
  },
  {
   "cell_type": "code",
   "execution_count": 7,
   "metadata": {
    "scrolled": true
   },
   "outputs": [
    {
     "data": {
      "text/plain": [
       "[<matplotlib.lines.Line2D at 0xe1effd0>]"
      ]
     },
     "execution_count": 7,
     "metadata": {},
     "output_type": "execute_result"
    },
    {
     "data": {
      "image/png": "[encoded data removed]",
      "text/plain": [
       "<Figure size 432x288 with 1 Axes>"
      ]
     },
     "metadata": {
      "needs_background": "light"
     },
     "output_type": "display_data"
    }
   ],
   "source": [
    "lossRunningEfficient = []\n",
    "with tf.Session() as sess:\n",
    "    #Initialize the weights and all other values inside the graphs    \n",
    "    sess.run(tf.global_variables_initializer())\n",
    "    \n",
    "    # Values comming into the graph in a dictionary called values\n",
    "    values = {x: np.random.randn(N,D),\n",
    "             y: np.random.randn(N,D)}\n",
    "    \n",
    "    # Run many times to train\n",
    "    for t in range(50):\n",
    "        # so we want loss and now updates \n",
    "        # (dummy nodes that depend on new_w2 and new_w2)\n",
    "        # This dummy node returns null but it forces TF to update the weights\n",
    "        loss_val,_ = sess.run([loss,updates],feed_dict=values)    \n",
    "        lossRunningEfficient.append(loss_val)\n",
    "        \n",
    "plt.plot(lossRunningEfficient)"
   ]
  },
  {
   "cell_type": "markdown",
   "metadata": {},
   "source": [
    "We may not have seen any computation improvements here because we are dealing with small amounts of datasets but this is technically more efficient as it does not require any GPU to CPU copying.\n",
    "\n",
    "We also know that it is training because of the decreasing loss function."
   ]
  },
  {
   "cell_type": "markdown",
   "metadata": {},
   "source": [
    "## High Level Wrappers"
   ]
  },
  {
   "cell_type": "markdown",
   "metadata": {},
   "source": [
    "- In the previous examples the bias is not present here because we have to update them and initialize them and the code starts getting larger and larger.  In this section we will look at various common wrappers over TF to make our lives easier"
   ]
  },
  {
   "cell_type": "markdown",
   "metadata": {},
   "source": [
    "We are only looking at 2 here but there are several others.  Please refer to the following wrappers.\n",
    "- Third Party Libs\n",
    "    - [Keras](https://keras.io/) \n",
    "    - [TFLearn](http://tflearn.org/)\n",
    "- Google\n",
    "    - These come with TF\n",
    "        - [TensorLayer](https://tensorlayer.readthedocs.io/en/latest/)\n",
    "        - [tf.layers](https://www.tensorflow.org/api_docs/python/tf/layers)\n",
    "        - [TF-Slim](https://github.com/tensorflow/tensorflow/tree/master/tensorflow/contrib/slim)\n",
    "        - [tf.contrib.learn](https://www.tensorflow.org/api_docs/python/tf/contrib/learn)\n",
    "    - Doesn't come with TF\n",
    "        - [Pretty Tesnor](https://github.com/google/prettytensor)\n",
    "        - [Sonnets](https://github.com/deepmind/sonnet) FROM DeepMind\n",
    "        \n",
    "NOTE: There are some pre-trained examples for transfer learning for Keras and TF-Slim"
   ]
  },
  {
   "cell_type": "markdown",
   "metadata": {},
   "source": [
    "### Tensor Flow Layers"
   ]
  },
  {
   "cell_type": "code",
   "execution_count": 8,
   "metadata": {},
   "outputs": [
    {
     "data": {
      "text/plain": [
       "[<matplotlib.lines.Line2D at 0x1380a710>]"
      ]
     },
     "execution_count": 8,
     "metadata": {},
     "output_type": "execute_result"
    },
    {
     "data": {
      "image/png": "[encoded data removed]",
      "text/plain": [
       "<Figure size 432x288 with 1 Axes>"
      ]
     },
     "metadata": {
      "needs_background": "light"
     },
     "output_type": "display_data"
    }
   ],
   "source": [
    "N,D,H = 64, 1000, 1000\n",
    "# These are the input nodes of the graph and are fed into the graph\n",
    "# These are not allocating to memory\n",
    "x = tf.placeholder(tf.float32,shape=(N,D))\n",
    "y = tf.placeholder(tf.float32,shape=(N,D))\n",
    "\n",
    "# NEW: this is performing xavier normalization strategy: \n",
    "# For more detail go to: http://proceedings.mlr.press/v9/glorot10a/glorot10a.pdf\n",
    "init = tf.contrib.layers.xavier_initializer()\n",
    "\n",
    "# NEW: we can use layers to automatically set up weigths and bias\n",
    "# NOTE: these layers aslo have defined activation function.  In this example we\n",
    "# use the ReLU activation funciton\n",
    "# With this line it is automatically setting up [w1,b1] with the correct size\n",
    "# based on our specification of units\n",
    "h = tf.layers.dense(inputs=x,\n",
    "                    units=H,\n",
    "                    activation=tf.nn.relu,\n",
    "                    kernel_initializer=init)\n",
    "y_pred = tf.layers.dense(inputs=h,\n",
    "                         units=D,\n",
    "                         kernel_initializer=init)\n",
    "\n",
    "loss = tf.losses.mean_squared_error(y_pred,y)\n",
    "\n",
    "optimizer = tf.train.GradientDescentOptimizer(1e-5)\n",
    "updates = optimizer.minimize(loss)\n",
    "\n",
    "# ------------ Run the graph ----------------\n",
    "lossRunningTFLayers = []\n",
    "with tf.Session() as sess:\n",
    "    #Initialize the weights and all other values inside the graphs    \n",
    "    sess.run(tf.global_variables_initializer())\n",
    "    \n",
    "    # Values comming into the graph in a dictionary called values\n",
    "    values = {x: np.random.randn(N,D),\n",
    "             y: np.random.randn(N,D)}\n",
    "    \n",
    "    # Run many times to train\n",
    "    for t in range(50):\n",
    "        # so we want loss and now updates \n",
    "        # (dummy nodes that depend on new_w2 and new_w2)\n",
    "        # This dummy node returns null but it forces TF to update the weights\n",
    "        loss_val,_ = sess.run([loss,updates],feed_dict=values)    \n",
    "        lossRunningTFLayers.append(loss_val)\n",
    "        \n",
    "plt.plot(lossRunningTFLayers)"
   ]
  },
  {
   "cell_type": "markdown",
   "metadata": {},
   "source": [
    "### Keras"
   ]
  },
  {
   "cell_type": "code",
   "execution_count": 18,
   "metadata": {},
   "outputs": [
    {
     "name": "stderr",
     "output_type": "stream",
     "text": [
      "C:\\Users\\HP\\Anaconda2\\envs\\py36\\lib\\site-packages\\ipykernel_launcher.py:13: UserWarning: Update your `Dense` call to the Keras 2 API: `Dense(input_dim=1000, units=1000)`\n",
      "  del sys.path[0]\n",
      "C:\\Users\\HP\\Anaconda2\\envs\\py36\\lib\\site-packages\\ipykernel_launcher.py:16: UserWarning: Update your `Dense` call to the Keras 2 API: `Dense(input_dim=1000, units=1000)`\n",
      "  app.launch_new_instance()\n",
      "C:\\Users\\HP\\Anaconda2\\envs\\py36\\lib\\site-packages\\ipykernel_launcher.py:32: UserWarning: The `nb_epoch` argument in `fit` has been renamed `epochs`.\n"
     ]
    }
   ],
   "source": [
    "from keras.models import Sequential\n",
    "from keras.layers.core import Dense, Activation\n",
    "from keras.optimizers import SGD\n",
    "\n",
    "# Data\n",
    "N,D,H = 64, 1000, 1000\n",
    "x = np.random.randn(N,D)\n",
    "y = np.random.randn(N,D)\n",
    "\n",
    "# New: Define model objects as a sequence of layers\n",
    "model = Sequential()\n",
    "# First Layer\n",
    "model.add(Dense(input_dim=D,output_dim=H))\n",
    "model.add(Activation('relu'))\n",
    "# Second Layer\n",
    "model.add(Dense(input_dim=H,output_dim=D))\n",
    "\n",
    "# NEW: define an optimization object to calculate the gradients\n",
    "optimizaer = SGD(lr=1e-5)\n",
    "\n",
    "# NEW: specify a loss function\n",
    "model.compile(loss='mean_squared_error',\n",
    "             optimizer = optimizer,\n",
    "             metrics=['accuracy'])\n",
    "          \n",
    "# New: train the model\n",
    "history = model.fit(x,\n",
    "                    y,\n",
    "                    validation_split = 0.33,                    \n",
    "                    nb_epoch=50,\n",
    "                    batch_size=10,\n",
    "                    verbose=0)"
   ]
  },
  {
   "cell_type": "code",
   "execution_count": 20,
   "metadata": {},
   "outputs": [
    {
     "data": {
      "text/plain": [
       "dict_keys(['val_loss', 'val_acc', 'loss', 'acc'])"
      ]
     },
     "execution_count": 20,
     "metadata": {},
     "output_type": "execute_result"
    }
   ],
   "source": [
    "history.history.keys()"
   ]
  },
  {
   "cell_type": "code",
   "execution_count": 21,
   "metadata": {},
   "outputs": [
    {
     "name": "stdout",
     "output_type": "stream",
     "text": [
      "dict_keys(['val_loss', 'val_acc', 'loss', 'acc'])\n"
     ]
    },
    {
     "data": {
      "image/png": "[encoded data removed]",
      "text/plain": [
       "<Figure size 432x288 with 1 Axes>"
      ]
     },
     "metadata": {
      "needs_background": "light"
     },
     "output_type": "display_data"
    },
    {
     "data": {
      "image/png": "[encoded data removed]",
      "text/plain": [
       "<Figure size 432x288 with 1 Axes>"
      ]
     },
     "metadata": {
      "needs_background": "light"
     },
     "output_type": "display_data"
    }
   ],
   "source": [
    "# list all data in history\n",
    "print(history.history.keys())\n",
    "# summarize history for accuracy\n",
    "plt.plot(history.history['acc'])\n",
    "plt.plot(history.history['val_acc'])\n",
    "plt.title('model accuracy')\n",
    "plt.ylabel('accuracy')\n",
    "plt.xlabel('epoch')\n",
    "plt.legend(['train', 'test'], loc='upper left')\n",
    "plt.show()\n",
    "# summarize history for loss\n",
    "plt.plot(history.history['loss'])\n",
    "plt.plot(history.history['val_loss'])\n",
    "plt.title('model loss')\n",
    "plt.ylabel('loss')\n",
    "plt.xlabel('epoch')\n",
    "plt.legend(['train', 'test'], loc='upper left')\n",
    "plt.show()"
   ]
  },
  {
   "cell_type": "markdown",
   "metadata": {},
   "source": [
    "This is good generalization."
   ]
  },
  {
   "cell_type": "markdown",
   "metadata": {},
   "source": [
    "# PyTorch"
   ]
  },
  {
   "cell_type": "markdown",
   "metadata": {},
   "source": [
    "Three Layer of abstaction\n",
    "- **Tensor**: Imperative ndarray,, but runs on GPU\n",
    "    - same as np array\n",
    "- **Variables**: Node in a computation graph; stores data and gradients\n",
    "    - tensor, variable, placeholder\n",
    "- **Module**: A NN layer; may store state or learnable weights \n",
    "    - same as keras, tf.layers or TFSlim"
   ]
  },
  {
   "cell_type": "code",
   "execution_count": 69,
   "metadata": {},
   "outputs": [],
   "source": [
    "import torch\n",
    "from torch.autograd import Variable\n",
    "from torch.utils.data import TensorDataset, DataLoader"
   ]
  },
  {
   "cell_type": "markdown",
   "metadata": {},
   "source": [
    "## Vanilla Implementation"
   ]
  },
  {
   "cell_type": "code",
   "execution_count": 68,
   "metadata": {},
   "outputs": [
    {
     "data": {
      "text/plain": [
       "[<matplotlib.lines.Line2D at 0x1c983d30>]"
      ]
     },
     "execution_count": 68,
     "metadata": {},
     "output_type": "execute_result"
    },
    {
     "data": {
      "image/png": "[encoded data removed]",
      "text/plain": [
       "<Figure size 432x288 with 1 Axes>"
      ]
     },
     "metadata": {
      "needs_background": "light"
     },
     "output_type": "display_data"
    }
   ],
   "source": [
    "# explicitly say the type of variable we are using which is the torch tensor\n",
    "dtype = torch.FloatTensor\n",
    "# to run on GPU all you need is to change the variables to \n",
    "#dtype = torch.cuda.FloatTensor\n",
    "\n",
    "N, D_in, H, D_out = 64,1000,100,10\n",
    "x = torch.randn(N,D_in).type(dtype)\n",
    "y = torch.randn(N,D_out).type(dtype)\n",
    "w1 = torch.randn(D_in,H).type(dtype)\n",
    "w2 = torch.randn(H,D_out).type(dtype)\n",
    "\n",
    "learning_rate = 1e-6\n",
    "\n",
    "torchLoss = []\n",
    "for t in range(500):\n",
    "    # Forward Pass\n",
    "    h=x.mm(w1)\n",
    "    h_relu = h.clamp(min=0)\n",
    "    y_pred = h_relu.mm(w2)\n",
    "    loss = (y_pred - y).pow(2).sum()\n",
    "    torchLoss.append(loss)\n",
    "    \n",
    "    # backprop\n",
    "    grad_y_pred = 2.0 * (y_pred-y)\n",
    "    grad_w2 = h_relu.t().mm(grad_y_pred)\n",
    "    grad_h_relu = grad_y_pred.mm(w2.t())\n",
    "    grad_h = grad_h_relu.clone()\n",
    "    grad_h[h<0] = 0\n",
    "    grad_w1 = x.t().mm(grad_h)\n",
    "    \n",
    "    # weights update\n",
    "    w1 -= learning_rate * grad_w1\n",
    "    w2 -= learning_rate * grad_w2\n",
    "\n",
    "plt.plot(torchLoss)"
   ]
  },
  {
   "cell_type": "markdown",
   "metadata": {},
   "source": [
    "## Auto Gradient Descent"
   ]
  },
  {
   "cell_type": "code",
   "execution_count": 45,
   "metadata": {},
   "outputs": [
    {
     "ename": "RuntimeError",
     "evalue": "bool value of Tensor with more than one value is ambiguous",
     "output_type": "error",
     "traceback": [
      "\u001b[1;31m---------------------------------------------------------------------------\u001b[0m",
      "\u001b[1;31mRuntimeError\u001b[0m                              Traceback (most recent call last)",
      "\u001b[1;32m<ipython-input-45-3c188574180e>\u001b[0m in \u001b[0;36m<module>\u001b[1;34m()\u001b[0m\n\u001b[0;32m     22\u001b[0m \u001b[1;33m\u001b[0m\u001b[0m\n\u001b[0;32m     23\u001b[0m     \u001b[1;31m# backprop\u001b[0m\u001b[1;33m\u001b[0m\u001b[1;33m\u001b[0m\u001b[0m\n\u001b[1;32m---> 24\u001b[1;33m     \u001b[1;32mif\u001b[0m \u001b[0mw1\u001b[0m\u001b[1;33m.\u001b[0m\u001b[0mgrad\u001b[0m\u001b[1;33m:\u001b[0m\u001b[1;33m\u001b[0m\u001b[0m\n\u001b[0m\u001b[0;32m     25\u001b[0m         \u001b[0mw1\u001b[0m\u001b[1;33m.\u001b[0m\u001b[0mgrad\u001b[0m\u001b[1;33m.\u001b[0m\u001b[0mdata\u001b[0m\u001b[1;33m.\u001b[0m\u001b[0mzero_\u001b[0m\u001b[1;33m(\u001b[0m\u001b[1;33m)\u001b[0m\u001b[1;33m\u001b[0m\u001b[0m\n\u001b[0;32m     26\u001b[0m     \u001b[1;32mif\u001b[0m \u001b[0mw2\u001b[0m\u001b[1;33m.\u001b[0m\u001b[0mgrad\u001b[0m\u001b[1;33m:\u001b[0m\u001b[1;33m\u001b[0m\u001b[0m\n",
      "\u001b[1;31mRuntimeError\u001b[0m: bool value of Tensor with more than one value is ambiguous"
     ]
    }
   ],
   "source": [
    "N, D_in, H, D_out = 64,1000,100,10\n",
    "\n",
    "# NEW: now we are placing them in a varible node in the computation graph\n",
    "# and telling PT which variable we want to have gradients calculated\n",
    "# in this case these are the weights\n",
    "x = Variable(torch.randn(N,D_in),requires_grad=False)\n",
    "y = Variable(torch.randn(N,D_out),requires_grad=False)\n",
    "w1 = Variable(torch.randn(D_in,H),requires_grad=True)\n",
    "w2 = Variable(torch.randn(H,D_out),requires_grad=True)\n",
    "\n",
    "learning_rate = 1e-6\n",
    "\n",
    "torchLossAutoGrad = []\n",
    "\n",
    "# NOTE: x.data is a tensor \n",
    "#       x.grad is a variable of gradients shape as x.data\n",
    "#       x.grad.data is a tensor of gradients\n",
    "for t in range(500):\n",
    "    # Forward Pass\n",
    "    y_pred = x.mm(w1).clamp(min=0).mm(w2)\n",
    "    loss = (y_pred - y).pow(2).sum()\n",
    "    \n",
    "    # backprop\n",
    "    if w1.grad:\n",
    "        w1.grad.data.zero_()\n",
    "    if w2.grad:\n",
    "        w2.grad.data.zero_()\n",
    "    loss.backward()\n",
    "    \n",
    "    # weights update\n",
    "    w1.data -= learning_rate * w1.grad.data\n",
    "    w2.data -= learning_rate * w2.grad.data\n",
    "\n",
    "plt.plot(torchLossAutoGrad)"
   ]
  },
  {
   "cell_type": "markdown",
   "metadata": {},
   "source": [
    "### New Autograd functions\n",
    "\n",
    "You can create your functions using tensor calculations"
   ]
  },
  {
   "cell_type": "code",
   "execution_count": 49,
   "metadata": {},
   "outputs": [],
   "source": [
    "class ReLU(torch.autograd.Function):\n",
    "    def forward(self,x):\n",
    "        self.save_for_backward(x)\n",
    "        return x.clamp(min=0)\n",
    "    \n",
    "    def backward(self,grad_y):\n",
    "        x, = self.saved_tensors\n",
    "        grad_input = grad_y.clone()\n",
    "        grad_input[x<0] = 0\n",
    "        return grad_input"
   ]
  },
  {
   "cell_type": "code",
   "execution_count": 50,
   "metadata": {},
   "outputs": [
    {
     "ename": "RuntimeError",
     "evalue": "bool value of Tensor with more than one value is ambiguous",
     "output_type": "error",
     "traceback": [
      "\u001b[1;31m---------------------------------------------------------------------------\u001b[0m",
      "\u001b[1;31mRuntimeError\u001b[0m                              Traceback (most recent call last)",
      "\u001b[1;32m<ipython-input-50-151dc61ecbf2>\u001b[0m in \u001b[0;36m<module>\u001b[1;34m()\u001b[0m\n\u001b[0;32m     23\u001b[0m \u001b[1;33m\u001b[0m\u001b[0m\n\u001b[0;32m     24\u001b[0m     \u001b[1;31m# backprop\u001b[0m\u001b[1;33m\u001b[0m\u001b[1;33m\u001b[0m\u001b[0m\n\u001b[1;32m---> 25\u001b[1;33m     \u001b[1;32mif\u001b[0m \u001b[0mw1\u001b[0m\u001b[1;33m.\u001b[0m\u001b[0mgrad\u001b[0m\u001b[1;33m:\u001b[0m\u001b[1;33m\u001b[0m\u001b[0m\n\u001b[0m\u001b[0;32m     26\u001b[0m         \u001b[0mw1\u001b[0m\u001b[1;33m.\u001b[0m\u001b[0mgrad\u001b[0m\u001b[1;33m.\u001b[0m\u001b[0mdata\u001b[0m\u001b[1;33m.\u001b[0m\u001b[0mzero_\u001b[0m\u001b[1;33m(\u001b[0m\u001b[1;33m)\u001b[0m\u001b[1;33m\u001b[0m\u001b[0m\n\u001b[0;32m     27\u001b[0m     \u001b[1;32mif\u001b[0m \u001b[0mw2\u001b[0m\u001b[1;33m.\u001b[0m\u001b[0mgrad\u001b[0m\u001b[1;33m:\u001b[0m\u001b[1;33m\u001b[0m\u001b[0m\n",
      "\u001b[1;31mRuntimeError\u001b[0m: bool value of Tensor with more than one value is ambiguous"
     ]
    }
   ],
   "source": [
    "N, D_in, H, D_out = 64,1000,100,10\n",
    "\n",
    "# NEW: now we are placing them in a varible node in the computation graph\n",
    "# and telling PT which variable we want to have gradients calculated\n",
    "# in this case these are the weights\n",
    "x = Variable(torch.randn(N,D_in),requires_grad=False)\n",
    "y = Variable(torch.randn(N,D_out),requires_grad=False)\n",
    "w1 = Variable(torch.randn(D_in,H),requires_grad=True)\n",
    "w2 = Variable(torch.randn(H,D_out),requires_grad=True)\n",
    "\n",
    "learning_rate = 1e-6\n",
    "\n",
    "torchLossAutoGradReLu = []\n",
    "\n",
    "# NOTE: x.data is a tensor \n",
    "#       x.grad is a variable of gradients shape as x.data\n",
    "#       x.grad.data is a tensor of gradients\n",
    "for t in range(500):\n",
    "    # Forward Pass\n",
    "    relu = ReLU()\n",
    "    y_pred = x.mm(w1).clamp(min=0).mm(w2)\n",
    "    loss = (y_pred - y).pow(2).sum()\n",
    "    \n",
    "    # backprop\n",
    "    if w1.grad:\n",
    "        w1.grad.data.zero_()\n",
    "    if w2.grad:\n",
    "        w2.grad.data.zero_()\n",
    "    loss.backward()\n",
    "    \n",
    "    # weights update\n",
    "    w1.data -= learning_rate * w1.grad.data\n",
    "    w2.data -= learning_rate * w2.grad.data\n",
    "\n",
    "plt.plot(torchLossAutoGradReLu)"
   ]
  },
  {
   "cell_type": "markdown",
   "metadata": {},
   "source": [
    "## Wrapper\n",
    "\n",
    "These are equivalent to Keras and layers in TF.  We will be talking about the **nn package**"
   ]
  },
  {
   "cell_type": "code",
   "execution_count": 66,
   "metadata": {},
   "outputs": [
    {
     "name": "stderr",
     "output_type": "stream",
     "text": [
      "C:\\Users\\HP\\Anaconda2\\envs\\py36\\lib\\site-packages\\torch\\nn\\functional.py:52: UserWarning: size_average and reduce args will be deprecated, please use reduction='sum' instead.\n",
      "  warnings.warn(warning.format(ret))\n"
     ]
    },
    {
     "data": {
      "text/plain": [
       "[<matplotlib.lines.Line2D at 0x16ebada0>]"
      ]
     },
     "execution_count": 66,
     "metadata": {},
     "output_type": "execute_result"
    },
    {
     "data": {
      "image/png": "[encoded data removed]",
      "text/plain": [
       "<Figure size 432x288 with 1 Axes>"
      ]
     },
     "metadata": {
      "needs_background": "light"
     },
     "output_type": "display_data"
    }
   ],
   "source": [
    "N, D_in, H, D_out = 64,1000,100,10\n",
    "\n",
    "x = Variable(torch.randn(N,D_in),requires_grad=False)\n",
    "y = Variable(torch.randn(N,D_out),requires_grad=False)\n",
    "\n",
    "# New: Define our model as sequences of layers\n",
    "model  = torch.nn.Sequential(torch.nn.Linear(D_in,H),\n",
    "                            torch.nn.ReLU(),\n",
    "                            torch.nn.Linear(H,D_out))\n",
    "\n",
    "# New: define our common loss function\n",
    "loss_fn = torch.nn.MSELoss(size_average=False)\n",
    "learning_rate = 1e-4\n",
    "\n",
    "torchLossNNWrapper = []\n",
    "for t in range(500):\n",
    "    # Forward Pass\n",
    "    y_pred = model(x)\n",
    "    loss = loss_fn(y_pred,y)\n",
    "    torchLossNNWrapper.append(loss)\n",
    "    \n",
    "    # backprop\n",
    "    model.zero_grad()\n",
    "    loss.backward()\n",
    "    \n",
    "    # weights update\n",
    "    for param in model.parameters():\n",
    "        param.data -= learning_rate * param.grad.data\n",
    "\n",
    "plt.plot(torchLossNNWrapper)"
   ]
  },
  {
   "cell_type": "markdown",
   "metadata": {},
   "source": [
    "### With optimizer"
   ]
  },
  {
   "cell_type": "code",
   "execution_count": 65,
   "metadata": {},
   "outputs": [
    {
     "name": "stderr",
     "output_type": "stream",
     "text": [
      "C:\\Users\\HP\\Anaconda2\\envs\\py36\\lib\\site-packages\\torch\\nn\\functional.py:52: UserWarning: size_average and reduce args will be deprecated, please use reduction='sum' instead.\n",
      "  warnings.warn(warning.format(ret))\n"
     ]
    },
    {
     "data": {
      "text/plain": [
       "[<matplotlib.lines.Line2D at 0x17e71e48>]"
      ]
     },
     "execution_count": 65,
     "metadata": {},
     "output_type": "execute_result"
    },
    {
     "data": {
      "image/png": "[encoded data removed]",
      "text/plain": [
       "<Figure size 432x288 with 1 Axes>"
      ]
     },
     "metadata": {
      "needs_background": "light"
     },
     "output_type": "display_data"
    }
   ],
   "source": [
    "N, D_in, H, D_out = 64,1000,100,10\n",
    "\n",
    "x = Variable(torch.randn(N,D_in),requires_grad=False)\n",
    "y = Variable(torch.randn(N,D_out),requires_grad=False)\n",
    "\n",
    "# Define our model as sequences of layers\n",
    "model  = torch.nn.Sequential(torch.nn.Linear(D_in,H),\n",
    "                            torch.nn.ReLU(),\n",
    "                            torch.nn.Linear(H,D_out))\n",
    "\n",
    "# Define our common loss function\n",
    "loss_fn = torch.nn.MSELoss(size_average=False)\n",
    "learning_rate = 1e-4\n",
    "\n",
    "\n",
    "# NEW: This is a backprop optimizer. In this example we use adam\n",
    "optimizer = torch.optim.Adam(model.parameters(),\n",
    "                            lr=learning_rate)\n",
    "\n",
    "torchLossNNWrapperOptimizer = []\n",
    "for t in range(500):\n",
    "    # Forward Pass\n",
    "    y_pred = model(x)\n",
    "    loss = loss_fn(y_pred,y)\n",
    "    torchLossNNWrapperOptimizer.append(loss)\n",
    "    \n",
    "    # backprop\n",
    "    model.zero_grad()\n",
    "    loss.backward()\n",
    "    \n",
    "    # NEW: Instead of manually updating we can use the optimizer step\n",
    "    optimizer.step()\n",
    "    \n",
    "\n",
    "plt.plot(torchLossNNWrapperOptimizer)"
   ]
  },
  {
   "cell_type": "markdown",
   "metadata": {},
   "source": [
    "### Module"
   ]
  },
  {
   "cell_type": "markdown",
   "metadata": {},
   "source": [
    "You can think of a module as a layer where it contains weights, other modules, or states.  But it is a NN layer and it has inputs and output variables."
   ]
  },
  {
   "cell_type": "code",
   "execution_count": 63,
   "metadata": {},
   "outputs": [],
   "source": [
    "class TwoLayerNet(torch.nn.Module):\n",
    "    # intialize two child layers using the nn wrapper\n",
    "    def __init__(self,D_in,H,D_out):\n",
    "        super(TwoLayerNet,self).__init__()\n",
    "        self.linear1 = torch.nn.Linear(D_in,H)\n",
    "        self.linear2 = torch.nn.Linear(H,D_out)\n",
    "    \n",
    "    # Note that you do not need to calculate the gradient because nn will take \n",
    "    # care of it\n",
    "    def forward(self,x):\n",
    "        h_relu = self.linear1(x).clamp(min=0)\n",
    "        y_pred = self.linear2(h_relu)\n",
    "        return y_pred"
   ]
  },
  {
   "cell_type": "code",
   "execution_count": 64,
   "metadata": {},
   "outputs": [
    {
     "name": "stderr",
     "output_type": "stream",
     "text": [
      "C:\\Users\\HP\\Anaconda2\\envs\\py36\\lib\\site-packages\\torch\\nn\\functional.py:52: UserWarning: size_average and reduce args will be deprecated, please use reduction='sum' instead.\n",
      "  warnings.warn(warning.format(ret))\n"
     ]
    },
    {
     "data": {
      "text/plain": [
       "[<matplotlib.lines.Line2D at 0x1b080d30>]"
      ]
     },
     "execution_count": 64,
     "metadata": {},
     "output_type": "execute_result"
    },
    {
     "data": {
      "image/png": "[encoded data removed]",
      "text/plain": [
       "<Figure size 432x288 with 1 Axes>"
      ]
     },
     "metadata": {
      "needs_background": "light"
     },
     "output_type": "display_data"
    }
   ],
   "source": [
    "N, D_in, H, D_out = 64,1000,100,10\n",
    "\n",
    "x = Variable(torch.randn(N,D_in),requires_grad=False)\n",
    "y = Variable(torch.randn(N,D_out),requires_grad=False)\n",
    "\n",
    "# New: this is based on the class we just made\n",
    "model = TwoLayerNet(D_in,H,D_out)\n",
    "\n",
    "# Define our common loss function\n",
    "loss_fn = torch.nn.MSELoss(size_average=False)\n",
    "\n",
    "# Define Optimizer\n",
    "learning_rate = 1e-4\n",
    "optimizer = torch.optim.Adam(model.parameters(),\n",
    "                            lr=learning_rate)\n",
    "\n",
    "torchLossNNWrapperOptimizerModule = []\n",
    "for t in range(500):\n",
    "    # Forward Pass\n",
    "    y_pred = model(x)\n",
    "    loss = loss_fn(y_pred,y)\n",
    "    torchLossNNWrapperOptimizerModule.append(loss)\n",
    "    \n",
    "    # backprop\n",
    "    model.zero_grad()\n",
    "    loss.backward()\n",
    "    \n",
    "    # NEW: Instead of manually updating we can use the optimizer step\n",
    "    optimizer.step()\n",
    "    \n",
    "\n",
    "plt.plot(torchLossNNWrapperOptimizerModule)"
   ]
  },
  {
   "cell_type": "markdown",
   "metadata": {},
   "source": [
    "### Data Loaders\n",
    "\n",
    "These are wraps a dataset and provide minibatching, shuffling, and multi-threading for you.\n",
    "\n",
    "NOTE: if you need to load custom data, you just have to write your own Dataset class"
   ]
  },
  {
   "cell_type": "code",
   "execution_count": 71,
   "metadata": {},
   "outputs": [
    {
     "name": "stderr",
     "output_type": "stream",
     "text": [
      "C:\\Users\\HP\\Anaconda2\\envs\\py36\\lib\\site-packages\\torch\\nn\\functional.py:52: UserWarning: size_average and reduce args will be deprecated, please use reduction='sum' instead.\n",
      "  warnings.warn(warning.format(ret))\n"
     ]
    },
    {
     "data": {
      "text/plain": [
       "[<matplotlib.lines.Line2D at 0x1ca006a0>]"
      ]
     },
     "execution_count": 71,
     "metadata": {},
     "output_type": "execute_result"
    },
    {
     "data": {
      "image/png": "[encoded data removed]",
      "text/plain": [
       "<Figure size 432x288 with 1 Axes>"
      ]
     },
     "metadata": {
      "needs_background": "light"
     },
     "output_type": "display_data"
    }
   ],
   "source": [
    "# DATA\n",
    "N, D_in, H, D_out = 64,1000,100,10\n",
    "x = Variable(torch.randn(N,D_in),requires_grad=False)\n",
    "y = Variable(torch.randn(N,D_out),requires_grad=False)\n",
    "\n",
    "# NEW: generate a datasetloader class in practice\n",
    "loader = DataLoader(TensorDataset(x,y),batch_size=8)\n",
    "\n",
    "# Module class we made earlier that defines our two layer NN\n",
    "model = TwoLayerNet(D_in,H,D_out)\n",
    "\n",
    "# Define our common loss function\n",
    "loss_fn = torch.nn.MSELoss(size_average=False)\n",
    "\n",
    "# Define Optimizer\n",
    "learning_rate = 1e-4\n",
    "optimizer = torch.optim.Adam(model.parameters(),\n",
    "                            lr=learning_rate)\n",
    "\n",
    "torchLossNNWrapperOptimizerModuleDataLoaders = []\n",
    "\n",
    "# New: iterate over loader to form minibatches\n",
    "for epoch in range(10):\n",
    "    for x_batch,y_batch in loader:\n",
    "        # Note that the loaders use tensors so you need to call Variable\n",
    "        x_var, y_var = Variable(x), Variable(y)\n",
    "        # Forward Pass\n",
    "        y_pred = model(x)\n",
    "        loss = loss_fn(y_pred,y)\n",
    "        torchLossNNWrapperOptimizerModuleDataLoaders.append(loss)\n",
    "\n",
    "        # backprop\n",
    "        model.zero_grad()\n",
    "        loss.backward()\n",
    "\n",
    "        # NEW: Instead of manually updating we can use the optimizer step\n",
    "        optimizer.step()\n",
    "    \n",
    "\n",
    "plt.plot(torchLossNNWrapperOptimizerModuleDataLoaders)"
   ]
  },
  {
   "cell_type": "markdown",
   "metadata": {},
   "source": [
    "## Pretrained Data for Transfer Learning\n",
    "\n",
    "It is really simple to use pre-trained networks you simply just use the [torchvision](https://github.com/pytorch/vision) module.\n",
    "\n",
    "You need to install this via forking the github page."
   ]
  },
  {
   "cell_type": "markdown",
   "metadata": {},
   "source": [
    "But it is simply using the following lines of code:\n",
    "- alexnet = torchvision.models.alexnet(pretrained=True)\n",
    "- vgg16 = torchvision.models.vgg16(pretrained=True) \n",
    "- resnet101 = torchvision.models.resnet101(pretrained=True)"
   ]
  },
  {
   "cell_type": "markdown",
   "metadata": {},
   "source": [
    "## Visdom - similar to tensor board\n",
    "\n",
    "This is similar to tensor board and adds logging to your code and then visualize them in the browser.  NOTE: vomputational graph structure are not yet possible."
   ]
  },
  {
   "cell_type": "markdown",
   "metadata": {},
   "source": [
    "# Comparison"
   ]
  },
  {
   "cell_type": "markdown",
   "metadata": {},
   "source": [
    "![overviewIMG](docs/StaticVsDynamic.png)"
   ]
  },
  {
   "cell_type": "code",
   "execution_count": null,
   "metadata": {},
   "outputs": [],
   "source": []
  }
 ],
 "metadata": {
  "kernelspec": {
   "display_name": "Python 3",
   "language": "python",
   "name": "python3"
  },
  "language_info": {
   "codemirror_mode": {
    "name": "ipython",
    "version": 3
   },
   "file_extension": ".py",
   "mimetype": "text/x-python",
   "name": "python",
   "nbconvert_exporter": "python",
   "pygments_lexer": "ipython3",
   "version": "3.6.6"
  },
  "latex_envs": {
   "LaTeX_envs_menu_present": true,
   "autoclose": false,
   "autocomplete": true,
   "bibliofile": "biblio.bib",
   "cite_by": "apalike",
   "current_citInitial": 1,
   "eqLabelWithNumbers": true,
   "eqNumInitial": 1,
   "hotkeys": {
    "equation": "Ctrl-E",
    "itemize": "Ctrl-I"
   },
   "labels_anchors": false,
   "latex_user_defs": false,
   "report_style_numbering": false,
   "user_envs_cfg": false
  }
 },
 "nbformat": 4,
 "nbformat_minor": 2
}
