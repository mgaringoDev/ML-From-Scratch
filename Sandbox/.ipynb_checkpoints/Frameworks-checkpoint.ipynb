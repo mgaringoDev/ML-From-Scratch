{
 "cells": [
  {
   "cell_type": "markdown",
   "metadata": {},
   "source": [
    "# Imports"
   ]
  },
  {
   "cell_type": "code",
   "execution_count": 10,
   "metadata": {},
   "outputs": [],
   "source": [
    "import matplotlib.pyplot as plt\n",
    "%matplotlib inline"
   ]
  },
  {
   "cell_type": "markdown",
   "metadata": {},
   "source": [
    "# Overview"
   ]
  },
  {
   "cell_type": "markdown",
   "metadata": {},
   "source": [
    "This is just a quick overview of what I will be talking about in this section.  Which is basically comparing Numpy vs TensorFlow vs. PyTorch"
   ]
  },
  {
   "cell_type": "markdown",
   "metadata": {},
   "source": [
    "![overviewIMG](docs/comparison.png)"
   ]
  },
  {
   "cell_type": "markdown",
   "metadata": {},
   "source": [
    "# Architecture"
   ]
  },
  {
   "cell_type": "markdown",
   "metadata": {},
   "source": [
    "Train a two-layer ReLu Netowrk on random data with L2 Loss"
   ]
  },
  {
   "cell_type": "markdown",
   "metadata": {},
   "source": [
    "# Tensor Flow"
   ]
  },
  {
   "cell_type": "code",
   "execution_count": 1,
   "metadata": {},
   "outputs": [],
   "source": [
    "import numpy as np\n",
    "import tensorflow as tf"
   ]
  },
  {
   "cell_type": "markdown",
   "metadata": {},
   "source": [
    "## Inefficient Method\n",
    "\n",
    "CPU GPU bottle-neck because we are copying CPU and GPU everytime step"
   ]
  },
  {
   "cell_type": "markdown",
   "metadata": {},
   "source": [
    "### Generate Computational Graphs"
   ]
  },
  {
   "cell_type": "code",
   "execution_count": 2,
   "metadata": {},
   "outputs": [],
   "source": [
    "N,D,H = 64, 1000, 1000\n",
    "# These are the input nodes of the graph and are fed into the graph\n",
    "# These are not allocating to memory\n",
    "x = tf.placeholder(tf.float32,shape=(N,D))\n",
    "y = tf.placeholder(tf.float32,shape=(N,D))\n",
    "w1 = tf.placeholder(tf.float32,shape=(D,H))\n",
    "w2 = tf.placeholder(tf.float32,shape=(H,D))\n",
    "\n",
    "# Using these symbolic values we will perform tensor operations on the.  \n",
    "# In this case forward propagation.\n",
    "h = tf.maximum(tf.matmul(x,w1),0) # matrix multiplacation\n",
    "y_pred = tf.matmul(h,w2) # ReLU\n",
    "diff = y_pred - y\n",
    "loss = tf.reduce_mean(tf.reduce_sum(diff**2,axis=1)) # L2 loss\n",
    "\n",
    "# This is as tensor flow to calculate the gradients of the loss wrt to w1 and w2\n",
    "# This avoids creating back-prop code\n",
    "grad_w1, grad_w2 = tf.gradients(loss,[w1,w2])"
   ]
  },
  {
   "cell_type": "markdown",
   "metadata": {},
   "source": [
    "### Run the Graph"
   ]
  },
  {
   "cell_type": "code",
   "execution_count": 12,
   "metadata": {},
   "outputs": [
    {
     "data": {
      "text/plain": [
       "[<matplotlib.lines.Line2D at 0xe2d8f60>]"
      ]
     },
     "execution_count": 12,
     "metadata": {},
     "output_type": "execute_result"
    },
    {
     "data": {
      "image/png": "[encoded data removed]",
      "text/plain": [
       "<Figure size 432x288 with 1 Axes>"
      ]
     },
     "metadata": {
      "needs_background": "light"
     },
     "output_type": "display_data"
    }
   ],
   "source": [
    "# Entering a tensor flow session\n",
    "lossRunning = []\n",
    "with tf.Session() as sess:\n",
    "    \n",
    "    # These are finally concrete values into the graph.  \n",
    "    # These are fed in using numpy\n",
    "    values = {x:np.random.randn(N,D),\n",
    "              w1:np.random.randn(D,H),\n",
    "              w2:np.random.randn(H,D),\n",
    "              y:np.random.randn(N,D)\n",
    "             }\n",
    "    \n",
    "    #Hyper-Parameters\n",
    "    learning_rate = 1e-5\n",
    "    numItr = 50\n",
    "    \n",
    "    # Training the model\n",
    "    for itr in range(numItr):\n",
    "        # In this section we are basically saying we want to calculate loss,dw1,dw2\n",
    "        # and feeding in a dictionary of values which were specified by the \n",
    "        # palceholders\n",
    "        out = sess.run([loss,grad_w1,grad_w2],feed_dict = values)\n",
    "\n",
    "        # inpack all the output and you get the loss and the gradients\n",
    "        loss_val,grad_w1_val,grad_w2_val = out\n",
    "        lossRunning.append(loss_val)\n",
    "        \n",
    "        # Update the weights\n",
    "        values[w1] -= learning_rate *grad_w1_val\n",
    "        values[w2] -= learning_rate *grad_w2_val\n",
    "\n",
    "plt.plot(lossRunning)"
   ]
  },
  {
   "cell_type": "markdown",
   "metadata": {},
   "source": [
    "## Efficient"
   ]
  },
  {
   "cell_type": "code",
   "execution_count": null,
   "metadata": {},
   "outputs": [],
   "source": [
    "N,D,H = 64, 1000, 1000\n",
    "# These are the input nodes of the graph and are fed into the graph\n",
    "# These are not allocating to memory\n",
    "x = tf.placeholder(tf.float32,shape=(N,D))\n",
    "y = tf.placeholder(tf.float32,shape=(N,D))\n",
    "w1 = tf.Variable(tf.random_normal((D,H)))\n",
    "w2 = tf.Variable(tf.random_normal((H,D)))\n",
    "\n",
    "# Using these symbolic values we will perform tensor operations on the.  \n",
    "# In this case forward propagation.\n",
    "h = tf.maximum(tf.matmul(x,w1),0) # matrix multiplacation\n",
    "y_pred = tf.matmul(h,w2) # ReLU\n",
    "diff = y_pred - y\n",
    "loss = tf.reduce_mean(tf.reduce_sum(diff**2,axis=1)) # L2 loss\n",
    "\n",
    "# This is as tensor flow to calculate the gradients of the loss wrt to w1 and w2\n",
    "# This avoids creating back-prop code\n",
    "grad_w1, grad_w2 = tf.gradients(loss,[w1,w2])"
   ]
  }
 ],
 "metadata": {
  "kernelspec": {
   "display_name": "Python 3",
   "language": "python",
   "name": "python3"
  },
  "language_info": {
   "codemirror_mode": {
    "name": "ipython",
    "version": 3
   },
   "file_extension": ".py",
   "mimetype": "text/x-python",
   "name": "python",
   "nbconvert_exporter": "python",
   "pygments_lexer": "ipython3",
   "version": "3.6.6"
  },
  "latex_envs": {
   "LaTeX_envs_menu_present": true,
   "autoclose": false,
   "autocomplete": true,
   "bibliofile": "biblio.bib",
   "cite_by": "apalike",
   "current_citInitial": 1,
   "eqLabelWithNumbers": true,
   "eqNumInitial": 1,
   "hotkeys": {
    "equation": "Ctrl-E",
    "itemize": "Ctrl-I"
   },
   "labels_anchors": false,
   "latex_user_defs": false,
   "report_style_numbering": false,
   "user_envs_cfg": false
  }
 },
 "nbformat": 4,
 "nbformat_minor": 2
}
